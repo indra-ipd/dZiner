{
 "cells": [
  {
   "cell_type": "markdown",
   "id": "7928827c-d012-4752-a28c-84d1c3cdb33a",
   "metadata": {},
   "source": [
    "# Example 6 - Human-in-the-loop design of more soluble molecules with IBM's embedding model (SELFIES-TED, SMI-TED, and MHG-GED)"
   ]
  },
  {
   "cell_type": "markdown",
   "id": "db1d3906-e482-4527-85c2-ee613781c897",
   "metadata": {},
   "source": [
    "In this example, we use IBM's collection of foundation models for materials ([selfies-ted](https://huggingface.co/ibm/materials.selfies-ted),  [smi-TED](https://huggingface.co/ibm/materials.smi-ted), and [mhg-ged](https://huggingface.co/ibm/materials.mhg-ged)) to design more soluble molecules. [AqSolDB](https://www.nature.com/articles/s41597-019-0151-1) is used as training data, containing aqueous solubility (LogS) values for 9,982 unique molecules extended with 17 topological and physicochemical 2D descriptors calculated by RDKit. Model benchmarking is based on a recent [paper](https://pubs.rsc.org/en/content/articlehtml/2024/dd/d3dd00217a) by Mayk Ramos and Andrew White."
   ]
  },
  {
   "cell_type": "markdown",
   "id": "ee5352da-ebde-47b4-8f47-65e29b168b0f",
   "metadata": {},
   "source": [
    "## Loading the embedding model"
   ]
  },
  {
   "cell_type": "markdown",
   "id": "abfaa443-0e3b-45f8-aa39-b1b506c1ecb4",
   "metadata": {},
   "source": [
    "You can clone IBM's Transformer models from this [repo](https://github.com/IBM/materials/tree/main/models/)."
   ]
  },
  {
   "cell_type": "code",
   "execution_count": 1,
   "id": "da6b04ac-e3a7-4e59-9103-832e5f0e829c",
   "metadata": {},
   "outputs": [],
   "source": [
    "import warnings\n",
    "warnings.filterwarnings(\"ignore\")\n",
    "from rdkit import rdBase\n",
    "rdBase.DisableLog('rdApp.warning')\n",
    "\n",
    "\n",
    "import sys\n",
    "sys.path.append('../dziner/surrogates')\n",
    "\n",
    "# load IBM models\n",
    "from selfies_ted.load import SELFIES\n",
    "from molformer.load import MolFormer\n",
    "from mhg_model import load as mhg\n",
    "from smi_ted.smi_ted_light.load import load_smi_ted\n",
    "\n",
    "# Data\n",
    "import torch\n",
    "import pandas as pd\n",
    "\n",
    "# Chemistry\n",
    "from rdkit import Chem\n",
    "from rdkit.Chem import PandasTools\n",
    "from rdkit.Chem import Descriptors\n",
    "PandasTools.RenderImagesInAllDataFrames(True)\n",
    "\n",
    "# function to canonicalize SMILES\n",
    "def normalize_smiles(smi, canonical=True, isomeric=False):\n",
    "    try:\n",
    "        normalized = Chem.MolToSmiles(\n",
    "            Chem.MolFromSmiles(smi), canonical=canonical, isomericSmiles=isomeric\n",
    "        )\n",
    "    except:\n",
    "        normalized = None\n",
    "    return normalized\n"
   ]
  },
  {
   "cell_type": "code",
   "execution_count": 2,
   "id": "a68cba5d-728e-4f66-a230-53396d3d4ebe",
   "metadata": {},
   "outputs": [],
   "source": [
    "model_type = \"selfies_ted\" # choose from [\"selfies_ted\" , \"smi-ted\", \"molformer\", \"mhg-ged\"]"
   ]
  },
  {
   "cell_type": "code",
   "execution_count": 3,
   "id": "7b6265e8-4ce3-4d88-9485-71f3aa2b9f5c",
   "metadata": {},
   "outputs": [
    {
     "name": "stderr",
     "output_type": "stream",
     "text": [
      "Special tokens have been added in the vocabulary, make sure the associated word embeddings are fine-tuned or trained.\n"
     ]
    }
   ],
   "source": [
    "if model_type == \"selfies_ted\":\n",
    "    model_encoder = SELFIES()\n",
    "    model_encoder.load()\n",
    "    \n",
    "elif model_type == \"mhg_ged\":\n",
    "    model_encoder =  mhg.load()\n",
    "\n",
    "elif model_type == \"smi-ted\":\n",
    "    model_encoder =  load_smi_ted()\n",
    "\n",
    "elif model_type == \"molformer\":\n",
    "    model_encoder = MolFormer()\n",
    "    model_encoder.load()"
   ]
  },
  {
   "cell_type": "markdown",
   "id": "426531db-b60a-4250-b5e9-914d48a4ef7f",
   "metadata": {},
   "source": [
    "## Loading training data"
   ]
  },
  {
   "cell_type": "markdown",
   "id": "56664fc0-ddce-4efa-a5ca-2399fba392ce",
   "metadata": {},
   "source": [
    "The training data can be downloaded from [here](https://github.com/ur-whitelab/mol.dev/tree/main/ml)."
   ]
  },
  {
   "cell_type": "code",
   "execution_count": 4,
   "id": "3cd0af5e-8719-433c-beb2-3f11a9da878b",
   "metadata": {},
   "outputs": [
    {
     "name": "stdout",
     "output_type": "stream",
     "text": [
      "The dataset was augmented from 9982 to 47617.\n"
     ]
    }
   ],
   "source": [
    "import numpy as np\n",
    "np.random.seed(0)\n",
    "\n",
    "AqSolDB = pd.read_csv(f\"../dziner/surrogates/solubility/data/curated-solubility-dataset.csv\")\n",
    "df_AqSolDB = AqSolDB.copy()\n",
    "\n",
    "import random\n",
    "from rdkit import Chem\n",
    "\n",
    "def randomize_smiles(mol, random_type=None, isomericSmiles=True, canonical=False):\n",
    "    \"\"\"\n",
    "    From: https://github.com/rxn4chemistry/rxn_yields\n",
    "    From: https://github.com/undeadpixel/reinvent-randomized and https://github.com/GLambard/SMILES-X\n",
    "    Returns a random SMILES given a SMILES of a molecule.\n",
    "    :param mol: A Mol object\n",
    "    :param random_type: The type (unrestricted, restricted, rotated) of randomization performed.\n",
    "    :return : A random SMILES string of the same molecule or None if the molecule is invalid.\n",
    "    \"\"\"\n",
    "    if random_type is None:\n",
    "      random_type = np.random.choice(['unrestricted', 'restricted', 'rotated'])\n",
    "\n",
    "    if random_type == \"unrestricted\":\n",
    "        return Chem.MolToSmiles(mol, canonical=canonical, doRandom=True, isomericSmiles=isomericSmiles)\n",
    "    elif random_type == \"restricted\":\n",
    "        new_atom_order = list(range(mol.GetNumAtoms()))\n",
    "        random.shuffle(new_atom_order)\n",
    "        random_mol = Chem.RenumberAtoms(mol, newOrder=new_atom_order)\n",
    "        return Chem.MolToSmiles(random_mol, canonical=canonical, isomericSmiles=isomericSmiles)\n",
    "    elif random_type == 'rotated':\n",
    "        n_atoms = mol.GetNumAtoms()\n",
    "        rotation_index = random.randint(0, n_atoms-1)\n",
    "        atoms = list(range(n_atoms))\n",
    "        new_atoms_order = (atoms[rotation_index%len(atoms):]+atoms[:rotation_index%len(atoms)])\n",
    "        rotated_mol = Chem.RenumberAtoms(mol,new_atoms_order)\n",
    "        return Chem.MolToSmiles(rotated_mol, canonical=canonical, isomericSmiles=isomericSmiles)\n",
    "    raise ValueError(\"Type '{}' is not valid\".format(random_type))\n",
    "\n",
    "smiles = list(df_AqSolDB[\"SMILES\"])\n",
    "solubilities = list(df_AqSolDB[\"Solubility\"])\n",
    "aug_data = 10\n",
    "\n",
    "aug_smiles=[]\n",
    "aug_solubilities=[]\n",
    "for sml, sol in zip(smiles, solubilities):\n",
    "  new_smls = []\n",
    "  new_smls.append(sml)\n",
    "  aug_solubilities.append(sol)\n",
    "  for _ in range(aug_data):\n",
    "    try:\n",
    "      new_sml = randomize_smiles(Chem.MolFromSmiles(sml), canonical=True)\n",
    "      if new_sml not in new_smls:\n",
    "        new_smls.append(new_sml)\n",
    "        aug_solubilities.append(sol)\n",
    "    except:\n",
    "      continue\n",
    "  aug_smiles.extend(new_smls)\n",
    "\n",
    "aug_df_AqSolDB = pd.DataFrame(data={\n",
    "    \"SMILES\": aug_smiles,\n",
    "    \"Solubility\": aug_solubilities\n",
    "})\n",
    "\n",
    "print(f\"The dataset was augmented from {len(df_AqSolDB)} to {len(aug_df_AqSolDB)}.\")"
   ]
  },
  {
   "cell_type": "markdown",
   "id": "156956e2-6a91-4e25-86c4-f1549dad600d",
   "metadata": {},
   "source": [
    "Let's have a look at the dataset:"
   ]
  },
  {
   "cell_type": "code",
   "execution_count": 5,
   "id": "2550dc18-e4fb-4ede-95e5-db4aeaa2b4a9",
   "metadata": {},
   "outputs": [
    {
     "data": {
      "text/html": [
       "<div>\n",
       "<style scoped>\n",
       "    .dataframe tbody tr th:only-of-type {\n",
       "        vertical-align: middle;\n",
       "    }\n",
       "\n",
       "    .dataframe tbody tr th {\n",
       "        vertical-align: top;\n",
       "    }\n",
       "\n",
       "    .dataframe thead th {\n",
       "        text-align: right;\n",
       "    }\n",
       "</style>\n",
       "<table border=\"1\" class=\"dataframe\">\n",
       "  <thead>\n",
       "    <tr style=\"text-align: right;\">\n",
       "      <th></th>\n",
       "      <th>SMILES</th>\n",
       "      <th>Solubility</th>\n",
       "    </tr>\n",
       "  </thead>\n",
       "  <tbody>\n",
       "    <tr>\n",
       "      <th>0</th>\n",
       "      <td>[Br-].CCCCCCCCCCCCCCCCCC[N+](C)(C)C</td>\n",
       "      <td>-3.616127</td>\n",
       "    </tr>\n",
       "    <tr>\n",
       "      <th>1</th>\n",
       "      <td>C(CCC)CCCCCCCCCCCCCC[N+](C)(C)C.[Br-]</td>\n",
       "      <td>-3.616127</td>\n",
       "    </tr>\n",
       "    <tr>\n",
       "      <th>2</th>\n",
       "      <td>CCCCCCCCCCCCCCCCCC[N+](C)(C)C.[Br-]</td>\n",
       "      <td>-3.616127</td>\n",
       "    </tr>\n",
       "    <tr>\n",
       "      <th>3</th>\n",
       "      <td>C(CC)CCCCCCCCCCCCCCC[N+](C)(C)C.[Br-]</td>\n",
       "      <td>-3.616127</td>\n",
       "    </tr>\n",
       "    <tr>\n",
       "      <th>4</th>\n",
       "      <td>C(CCCCCCCCCCCC)CCCCC[N+](C)(C)C.[Br-]</td>\n",
       "      <td>-3.616127</td>\n",
       "    </tr>\n",
       "    <tr>\n",
       "      <th>...</th>\n",
       "      <td>...</td>\n",
       "      <td>...</td>\n",
       "    </tr>\n",
       "    <tr>\n",
       "      <th>47612</th>\n",
       "      <td>O(C)c1c(OC)ccc(c1)C(CCCN(CCc1cc(c(OC)cc1)OC)C)...</td>\n",
       "      <td>-3.980000</td>\n",
       "    </tr>\n",
       "    <tr>\n",
       "      <th>47613</th>\n",
       "      <td>O(C)c1cc(ccc1OC)CCN(CCCC(C(C)C)(C#N)c1ccc(OC)c...</td>\n",
       "      <td>-3.980000</td>\n",
       "    </tr>\n",
       "    <tr>\n",
       "      <th>47614</th>\n",
       "      <td>CC(C)C(CCCN(CCc1ccc(OC)c(c1)OC)C)(C#N)c1ccc(c(...</td>\n",
       "      <td>-3.980000</td>\n",
       "    </tr>\n",
       "    <tr>\n",
       "      <th>47615</th>\n",
       "      <td>CC(=O)CC(c1ccccc1)c1c(O)c2ccccc2oc1=O</td>\n",
       "      <td>-4.780000</td>\n",
       "    </tr>\n",
       "    <tr>\n",
       "      <th>47616</th>\n",
       "      <td>C(C(c1c(oc2c(cccc2)c1O)=O)c1ccccc1)C(=O)C</td>\n",
       "      <td>-4.780000</td>\n",
       "    </tr>\n",
       "  </tbody>\n",
       "</table>\n",
       "<p>47617 rows × 2 columns</p>\n",
       "</div>"
      ],
      "text/plain": [
       "                                                  SMILES  Solubility\n",
       "0                    [Br-].CCCCCCCCCCCCCCCCCC[N+](C)(C)C   -3.616127\n",
       "1                  C(CCC)CCCCCCCCCCCCCC[N+](C)(C)C.[Br-]   -3.616127\n",
       "2                    CCCCCCCCCCCCCCCCCC[N+](C)(C)C.[Br-]   -3.616127\n",
       "3                  C(CC)CCCCCCCCCCCCCCC[N+](C)(C)C.[Br-]   -3.616127\n",
       "4                  C(CCCCCCCCCCCC)CCCCC[N+](C)(C)C.[Br-]   -3.616127\n",
       "...                                                  ...         ...\n",
       "47612  O(C)c1c(OC)ccc(c1)C(CCCN(CCc1cc(c(OC)cc1)OC)C)...   -3.980000\n",
       "47613  O(C)c1cc(ccc1OC)CCN(CCCC(C(C)C)(C#N)c1ccc(OC)c...   -3.980000\n",
       "47614  CC(C)C(CCCN(CCc1ccc(OC)c(c1)OC)C)(C#N)c1ccc(c(...   -3.980000\n",
       "47615              CC(=O)CC(c1ccccc1)c1c(O)c2ccccc2oc1=O   -4.780000\n",
       "47616          C(C(c1c(oc2c(cccc2)c1O)=O)c1ccccc1)C(=O)C   -4.780000\n",
       "\n",
       "[47617 rows x 2 columns]"
      ]
     },
     "execution_count": 5,
     "metadata": {},
     "output_type": "execute_result"
    }
   ],
   "source": [
    "aug_df_AqSolDB"
   ]
  },
  {
   "cell_type": "markdown",
   "id": "c103b4c5-bf2a-4636-8a07-1246e60d94ed",
   "metadata": {},
   "source": [
    "## Training"
   ]
  },
  {
   "cell_type": "code",
   "execution_count": 6,
   "id": "0cb654df-88c9-4fda-9238-e54b28dedfec",
   "metadata": {},
   "outputs": [
    {
     "name": "stdout",
     "output_type": "stream",
     "text": [
      "Train Set Size: 30474\n",
      "Validation Set Size: 7619\n",
      "Test Set Size: 9524\n"
     ]
    }
   ],
   "source": [
    "from sklearn.model_selection import train_test_split\n",
    "\n",
    "\n",
    "# First, split off the test set\n",
    "train_df, test_df = train_test_split(aug_df_AqSolDB, test_size=0.2, random_state=0)\n",
    "\n",
    "# Then, split the remaining data into train and validation sets\n",
    "train_df, val_df = train_test_split(train_df, test_size=0.2, random_state=0)\n",
    "\n",
    "# Output DataFrames\n",
    "print(\"Train Set Size:\", len(train_df))\n",
    "print(\"Validation Set Size:\", len(val_df))\n",
    "print(\"Test Set Size:\", len(test_df))"
   ]
  },
  {
   "cell_type": "code",
   "execution_count": 7,
   "id": "1b0bc296-105b-4adf-afce-64e3251cf7e2",
   "metadata": {},
   "outputs": [
    {
     "data": {
      "application/vnd.jupyter.widget-view+json": {
       "model_id": "45e4598f01f040ce9dd84573d8bc5fcc",
       "version_major": 2,
       "version_minor": 0
      },
      "text/plain": [
       "Map:   0%|          | 0/30474 [00:00<?, ? examples/s]"
      ]
     },
     "metadata": {},
     "output_type": "display_data"
    },
    {
     "name": "stdout",
     "output_type": "stream",
     "text": [
      "Cannot encode O=[I](=O)c1ccccc1 to selfies and embedding replaced by NaN\n",
      "Cannot encode c1c(I(=O)=O)cccc1 to selfies and embedding replaced by NaN\n",
      "Cannot encode O=I(=O)c1ccccc1 to selfies and embedding replaced by NaN\n",
      "Cannot encode F[P-](F)(F)(F)(F)F.c1cccc([N+]#N)c1 to selfies and embedding replaced by NaN\n",
      "Cannot encode F[P-](F)(F)(F)(F)F.c1cc([N+]#N)ccc1 to selfies and embedding replaced by NaN\n",
      "Cannot encode F[P-](F)(F)(F)(F)F.N#[N+]c1ccccc1 to selfies and embedding replaced by NaN\n",
      "Cannot encode F[P-](F)(F)(F)(F)F.c1([N+]#N)ccccc1 to selfies and embedding replaced by NaN\n"
     ]
    },
    {
     "data": {
      "application/vnd.jupyter.widget-view+json": {
       "model_id": "90313ec85d3e4014a5beb782b3935e37",
       "version_major": 2,
       "version_minor": 0
      },
      "text/plain": [
       "Map:   0%|          | 0/7619 [00:00<?, ? examples/s]"
      ]
     },
     "metadata": {},
     "output_type": "display_data"
    },
    {
     "data": {
      "application/vnd.jupyter.widget-view+json": {
       "model_id": "afcd6831dc2046eb913f4612aa43a8ca",
       "version_major": 2,
       "version_minor": 0
      },
      "text/plain": [
       "Map:   0%|          | 0/9524 [00:00<?, ? examples/s]"
      ]
     },
     "metadata": {},
     "output_type": "display_data"
    },
    {
     "name": "stdout",
     "output_type": "stream",
     "text": [
      "Cannot encode c1(ccccc1)I(=O)=O to selfies and embedding replaced by NaN\n"
     ]
    }
   ],
   "source": [
    "with torch.no_grad():\n",
    "    df_embeddings_train = model_encoder.encode(list(train_df['SMILES'].values))\n",
    "    df_embeddings_val = model_encoder.encode(list(val_df['SMILES'].values))\n",
    "    df_embeddings_test = model_encoder.encode(list(test_df['SMILES'].values))"
   ]
  },
  {
   "cell_type": "code",
   "execution_count": 8,
   "id": "ce310ac3-d641-48f2-b1d5-6ddecba7d97d",
   "metadata": {},
   "outputs": [
    {
     "name": "stdout",
     "output_type": "stream",
     "text": [
      "Validation RMSE: 1.108\n"
     ]
    }
   ],
   "source": [
    "from xgboost import XGBRegressor\n",
    "from sklearn.metrics import roc_auc_score\n",
    "\n",
    "model = XGBRegressor(n_estimators=800, learning_rate=0.2, max_depth=5,\n",
    "        objective='reg:squarederror')\n",
    "\n",
    "model.fit(df_embeddings_train, train_df['Solubility'])\n",
    "\n",
    "\n",
    "from sklearn.metrics import root_mean_squared_error\n",
    "\n",
    "y_pred_val = model.predict(df_embeddings_val)\n",
    "rmse_val = root_mean_squared_error(val_df['Solubility'], y_pred_val)\n",
    "print(f'Validation RMSE: {rmse_val:.3f}')"
   ]
  },
  {
   "cell_type": "code",
   "execution_count": 9,
   "id": "f15cc1d8-04d2-426a-b99f-5f5313a12643",
   "metadata": {},
   "outputs": [
    {
     "name": "stdout",
     "output_type": "stream",
     "text": [
      "Test RMSE: 1.102\n"
     ]
    }
   ],
   "source": [
    "y_pred_test = model.predict(df_embeddings_test)\n",
    "rmse_test = root_mean_squared_error(test_df['Solubility'], y_pred_test)\n",
    "print(f'Test RMSE: {rmse_test:.3f}')"
   ]
  },
  {
   "cell_type": "markdown",
   "id": "55d09089-b749-4c56-b842-19bf1b07321f",
   "metadata": {},
   "source": [
    "## Solubility Challenges"
   ]
  },
  {
   "cell_type": "markdown",
   "id": "ed316d8f-bb13-4c87-bf04-ac1fb6d5b484",
   "metadata": {},
   "source": [
    "[Llinàs et al.](https://pubs.acs.org/doi/abs/10.1021/acs.jcim.0c00701) introduced two solubility challenges featuring consistent data. These challenges highlighted the importance of data quality over model selection for accurate solubility predictions. You can download the challenges data from [here](https://github.com/ur-whitelab/mol.dev/tree/main/ml)."
   ]
  },
  {
   "cell_type": "code",
   "execution_count": 10,
   "id": "a53a2edf-3f95-4d8b-9e88-79f2e2f8264f",
   "metadata": {},
   "outputs": [],
   "source": [
    "from rdkit.Chem.Descriptors import MolWt\n",
    "def calcS0(entry):\n",
    "  try:\n",
    "    return np.log10(1e-3*entry[\"expSolubility\"]/MolWt(Chem.MolFromSmiles(entry[\"SMILES\"])))\n",
    "  except:\n",
    "    return None\n",
    "\n",
    "SolChal1 = pd.read_csv('../dziner/surrogates/solubility/data/SolChal1.csv').dropna()\n",
    "SolChal1['SMILES'] = SolChal1['SMILES'].apply(normalize_smiles)\n",
    "SolChal1[\"Solubility\"] = SolChal1.apply(calcS0, axis=1)\n",
    "\n",
    "SolChal2_1 = pd.read_csv('../dziner/surrogates/solubility/data/SolChal2-1.csv').dropna()\n",
    "SolChal2_1['SMILES'] = SolChal2_1['SMILES'].apply(normalize_smiles)\n",
    "\n",
    "\n",
    "SolChal2_2 = pd.read_csv('../dziner/surrogates/solubility/data/SolChal2-2.csv').dropna()\n",
    "SolChal2_2['SMILES'] = SolChal2_2['SMILES'].apply(normalize_smiles)"
   ]
  },
  {
   "cell_type": "markdown",
   "id": "6f93d43d-a295-46fb-89e5-463f74b134e3",
   "metadata": {},
   "source": [
    "Let's take a look at `SolChal1` data:"
   ]
  },
  {
   "cell_type": "code",
   "execution_count": 11,
   "id": "67ee0ba4-f79d-4fa5-9c2e-6c9606a6e94d",
   "metadata": {},
   "outputs": [
    {
     "data": {
      "text/html": [
       "<div>\n",
       "<style scoped>\n",
       "    .dataframe tbody tr th:only-of-type {\n",
       "        vertical-align: middle;\n",
       "    }\n",
       "\n",
       "    .dataframe tbody tr th {\n",
       "        vertical-align: top;\n",
       "    }\n",
       "\n",
       "    .dataframe thead th {\n",
       "        text-align: right;\n",
       "    }\n",
       "</style>\n",
       "<table border=\"1\" class=\"dataframe\">\n",
       "  <thead>\n",
       "    <tr style=\"text-align: right;\">\n",
       "      <th></th>\n",
       "      <th>name</th>\n",
       "      <th>SMILES</th>\n",
       "      <th>InChI</th>\n",
       "      <th>expSolubility</th>\n",
       "      <th>expUncertainty</th>\n",
       "      <th>Solubility</th>\n",
       "    </tr>\n",
       "  </thead>\n",
       "  <tbody>\n",
       "    <tr>\n",
       "      <th>0</th>\n",
       "      <td>Acebutolol</td>\n",
       "      <td>CCCC(=O)Nc1ccc(OCC(O)CNC(C)C)c(C(C)=O)c1</td>\n",
       "      <td>InChI=1/C18H28N2O4/c1-5-6-18(23)20-14-7-8-17(1...</td>\n",
       "      <td>711.00</td>\n",
       "      <td>140.00</td>\n",
       "      <td>-2.675028</td>\n",
       "    </tr>\n",
       "    <tr>\n",
       "      <th>1</th>\n",
       "      <td>Amoxicillin</td>\n",
       "      <td>CC1(C)SC2C(NC(=O)C(N)c3ccc(O)cc3)C(=O)N2C1C(=O)O</td>\n",
       "      <td>InChI=1/C16H19N3O5S/c1-16(2)11(15(23)24)19-13(...</td>\n",
       "      <td>3900.00</td>\n",
       "      <td>200.00</td>\n",
       "      <td>-1.971717</td>\n",
       "    </tr>\n",
       "    <tr>\n",
       "      <th>2</th>\n",
       "      <td>Bendroflumethiazide</td>\n",
       "      <td>NS(=O)(=O)c1cc2c(cc1C(F)(F)F)NC(Cc1ccccc1)NS2(...</td>\n",
       "      <td>InChI=1/C15H18F3N3O4Rn2/c16-15(17,18)10-7-11-1...</td>\n",
       "      <td>21.20</td>\n",
       "      <td>2.60</td>\n",
       "      <td>-4.298381</td>\n",
       "    </tr>\n",
       "    <tr>\n",
       "      <th>3</th>\n",
       "      <td>Benzocaine</td>\n",
       "      <td>CCOC(=O)c1ccc(N)cc1</td>\n",
       "      <td>InChI=1/C9H11NO2/c1-2-12-9(11)7-3-5-8(10)6-4-7...</td>\n",
       "      <td>780.00</td>\n",
       "      <td>150.00</td>\n",
       "      <td>-2.325894</td>\n",
       "    </tr>\n",
       "    <tr>\n",
       "      <th>4</th>\n",
       "      <td>Benzthiazide</td>\n",
       "      <td>NS(=O)(=O)c1cc2c(cc1Cl)N=C(CSCc1ccccc1)NS2(=O)=O</td>\n",
       "      <td>InChI=1/C15H18ClN3O4Rn2S/c16-11-6-12-14(7-13(1...</td>\n",
       "      <td>6.40</td>\n",
       "      <td>0.10</td>\n",
       "      <td>-4.829251</td>\n",
       "    </tr>\n",
       "    <tr>\n",
       "      <th>6</th>\n",
       "      <td>Clozapine</td>\n",
       "      <td>CN1CCN(C2=Nc3cc(Cl)ccc3Nc3ccccc32)CC1</td>\n",
       "      <td>InChI=1/C18H19ClN4/c1-22-8-10-23(11-9-22)18-14...</td>\n",
       "      <td>188.90</td>\n",
       "      <td>9.70</td>\n",
       "      <td>-3.238091</td>\n",
       "    </tr>\n",
       "    <tr>\n",
       "      <th>7</th>\n",
       "      <td>Dibucaine</td>\n",
       "      <td>CCCCOc1cc(C(=O)NCCN(CC)CC)c2ccccc2n1</td>\n",
       "      <td>InChI=1/C20H29N3O2/c1-4-7-14-25-19-15-17(16-10...</td>\n",
       "      <td>14.00</td>\n",
       "      <td>2.00</td>\n",
       "      <td>-4.389762</td>\n",
       "    </tr>\n",
       "    <tr>\n",
       "      <th>8</th>\n",
       "      <td>Diethylstilbestrol</td>\n",
       "      <td>CCC(=C(CC)c1ccc(O)cc1)c1ccc(O)cc1</td>\n",
       "      <td>InChI=1/C18H20O2/c1-3-17(13-5-9-15(19)10-6-13)...</td>\n",
       "      <td>10.00</td>\n",
       "      <td>3.00</td>\n",
       "      <td>-4.428711</td>\n",
       "    </tr>\n",
       "    <tr>\n",
       "      <th>9</th>\n",
       "      <td>Diflunisal</td>\n",
       "      <td>O=C(O)c1cc(-c2ccc(F)cc2F)ccc1O</td>\n",
       "      <td>InChI=1/C13H8F2O3/c14-8-2-3-9(11(15)6-8)7-1-4-...</td>\n",
       "      <td>0.29</td>\n",
       "      <td>0.02</td>\n",
       "      <td>-5.935889</td>\n",
       "    </tr>\n",
       "    <tr>\n",
       "      <th>10</th>\n",
       "      <td>Dipyridamole</td>\n",
       "      <td>OCCN(CCO)c1nc(N2CCCCC2)c2nc(N(CCO)CCO)nc(N3CCC...</td>\n",
       "      <td>InChI=1/C24H40N8O4/c33-15-11-31(12-16-34)23-26...</td>\n",
       "      <td>3.46</td>\n",
       "      <td>0.05</td>\n",
       "      <td>-5.163902</td>\n",
       "    </tr>\n",
       "    <tr>\n",
       "      <th>12</th>\n",
       "      <td>Folic_Acid</td>\n",
       "      <td>Nc1nc(O)c2nc(CNc3ccc(C(=O)NC(CCC(=O)O)C(=O)O)c...</td>\n",
       "      <td>InChI=1/C19H19N7O6/c20-19-25-15-14(17(30)26-19...</td>\n",
       "      <td>2.50</td>\n",
       "      <td>0.20</td>\n",
       "      <td>-5.246896</td>\n",
       "    </tr>\n",
       "    <tr>\n",
       "      <th>13</th>\n",
       "      <td>Furosemide</td>\n",
       "      <td>NS(=O)(=O)c1cc(C(=O)O)c(NCc2ccco2)cc1Cl</td>\n",
       "      <td>InChI=1/C12H13ClN2O5Rn/c13-9-5-10(15-6-7-2-1-3...</td>\n",
       "      <td>19.60</td>\n",
       "      <td>2.00</td>\n",
       "      <td>-4.227242</td>\n",
       "    </tr>\n",
       "    <tr>\n",
       "      <th>14</th>\n",
       "      <td>Hydrochlorothiazide</td>\n",
       "      <td>NS(=O)(=O)c1cc2c(cc1Cl)NCNS2(=O)=O</td>\n",
       "      <td>InChI=1/C7H12ClN3O4Rn2/c8-4-1-5-7(2-6(4)16(9,1...</td>\n",
       "      <td>625.00</td>\n",
       "      <td>11.00</td>\n",
       "      <td>-2.677964</td>\n",
       "    </tr>\n",
       "    <tr>\n",
       "      <th>15</th>\n",
       "      <td>Imipramine</td>\n",
       "      <td>CN(C)CCCN1c2ccccc2CCc2ccccc21</td>\n",
       "      <td>InChI=1/C19H24N2/c1-20(2)14-7-15-21-18-10-5-3-...</td>\n",
       "      <td>22.00</td>\n",
       "      <td>1.00</td>\n",
       "      <td>-4.105379</td>\n",
       "    </tr>\n",
       "    <tr>\n",
       "      <th>16</th>\n",
       "      <td>Indomethacin</td>\n",
       "      <td>COc1ccc2c(c1)c(CC(=O)O)c(C)n2C(=O)c1ccc(Cl)cc1</td>\n",
       "      <td>InChI=1/C19H16ClNO4/c1-11-15(10-18(22)23)16-9-...</td>\n",
       "      <td>410.00</td>\n",
       "      <td>5.00</td>\n",
       "      <td>-2.940848</td>\n",
       "    </tr>\n",
       "    <tr>\n",
       "      <th>17</th>\n",
       "      <td>Ketoprofen</td>\n",
       "      <td>CC(C(=O)O)c1cccc(C(=O)c2ccccc2)c1</td>\n",
       "      <td>InChI=1/C16H14O3/c1-11(16(18)19)13-8-5-9-14(10...</td>\n",
       "      <td>157.00</td>\n",
       "      <td>4.00</td>\n",
       "      <td>-3.209421</td>\n",
       "    </tr>\n",
       "    <tr>\n",
       "      <th>18</th>\n",
       "      <td>Lidocaine</td>\n",
       "      <td>CCN(CC)CC(=O)Nc1c(C)cccc1C</td>\n",
       "      <td>InChI=1/C14H22N2O/c1-5-16(6-2)10-13(17)15-14-1...</td>\n",
       "      <td>3130.00</td>\n",
       "      <td>100.00</td>\n",
       "      <td>-1.874308</td>\n",
       "    </tr>\n",
       "    <tr>\n",
       "      <th>20</th>\n",
       "      <td>Meclofenamic_acid</td>\n",
       "      <td>Cc1ccc(Cl)c(Nc2ccccc2C(=O)O)c1Cl</td>\n",
       "      <td>InChI=1/C14H11Cl2NO2/c1-8-6-7-10(15)13(12(8)16...</td>\n",
       "      <td>0.16</td>\n",
       "      <td>0.01</td>\n",
       "      <td>-6.267396</td>\n",
       "    </tr>\n",
       "    <tr>\n",
       "      <th>21</th>\n",
       "      <td>Naphthoic_acid</td>\n",
       "      <td>O=C(O)c1ccc2ccccc2c1</td>\n",
       "      <td>InChI=1/C11H8O2/c12-11(13)10-6-5-8-3-1-2-4-9(8...</td>\n",
       "      <td>28.96</td>\n",
       "      <td>9.91</td>\n",
       "      <td>-3.774192</td>\n",
       "    </tr>\n",
       "    <tr>\n",
       "      <th>23</th>\n",
       "      <td>Probenecid</td>\n",
       "      <td>CCCN(CCC)S(=O)(=O)c1ccc(C(=O)O)cc1</td>\n",
       "      <td>InChI=1/C13H21NO4Rn/c1-3-9-14(10-4-2)19(17,18)...</td>\n",
       "      <td>3.90</td>\n",
       "      <td>0.10</td>\n",
       "      <td>-4.864336</td>\n",
       "    </tr>\n",
       "    <tr>\n",
       "      <th>24</th>\n",
       "      <td>Pyrimethamine</td>\n",
       "      <td>CCc1nc(N)nc(N)c1-c1ccc(Cl)cc1</td>\n",
       "      <td>InChI=1/C12H13ClN4/c1-2-9-10(11(14)17-12(15)16...</td>\n",
       "      <td>19.40</td>\n",
       "      <td>2.70</td>\n",
       "      <td>-4.107904</td>\n",
       "    </tr>\n",
       "    <tr>\n",
       "      <th>25</th>\n",
       "      <td>Salicylic_acid</td>\n",
       "      <td>O=C(O)c1ccccc1O</td>\n",
       "      <td>InChI=1/C7H6O3/c8-6-4-2-1-3-5(6)7(9)10/h1-4,8H...</td>\n",
       "      <td>1620.00</td>\n",
       "      <td>40.00</td>\n",
       "      <td>-1.930748</td>\n",
       "    </tr>\n",
       "    <tr>\n",
       "      <th>26</th>\n",
       "      <td>Sulfamerazine</td>\n",
       "      <td>Cc1ccnc(NS(=O)(=O)c2ccc(N)cc2)n1</td>\n",
       "      <td>InChI=1/C11H14N4O2Rn/c1-8-6-7-13-11(14-8)15-18...</td>\n",
       "      <td>200.00</td>\n",
       "      <td>6.00</td>\n",
       "      <td>-3.121084</td>\n",
       "    </tr>\n",
       "    <tr>\n",
       "      <th>27</th>\n",
       "      <td>Sulfamethizole</td>\n",
       "      <td>Cc1nnc(NS(=O)(=O)c2ccc(N)cc2)s1</td>\n",
       "      <td>InChI=1/C9H12N4O2RnS/c1-6-11-12-9(17-6)13-16(1...</td>\n",
       "      <td>450.00</td>\n",
       "      <td>40.00</td>\n",
       "      <td>-2.778696</td>\n",
       "    </tr>\n",
       "    <tr>\n",
       "      <th>29</th>\n",
       "      <td>Thiabendazole</td>\n",
       "      <td>c1ccc2[nH]c(-c3cscn3)nc2c1</td>\n",
       "      <td>InChI=1/C10H7N3S/c1-2-4-8-7(3-1)12-10(13-8)9-5...</td>\n",
       "      <td>66.00</td>\n",
       "      <td>4.00</td>\n",
       "      <td>-3.484201</td>\n",
       "    </tr>\n",
       "    <tr>\n",
       "      <th>30</th>\n",
       "      <td>Tolbutamide</td>\n",
       "      <td>CCCCNC(=O)NS(=O)(=O)c1ccc(C)cc1</td>\n",
       "      <td>InChI=1/C12H18N2O3S/c1-3-4-9-13-12(15)14-18(16...</td>\n",
       "      <td>93.00</td>\n",
       "      <td>5.00</td>\n",
       "      <td>-3.463450</td>\n",
       "    </tr>\n",
       "    <tr>\n",
       "      <th>31</th>\n",
       "      <td>Trazodone</td>\n",
       "      <td>O=c1n(CCCN2CCN(c3cccc(Cl)c3)CC2)nc2ccccn12</td>\n",
       "      <td>InChI=1/C19H22ClN5O/c20-16-5-3-6-17(15-16)23-1...</td>\n",
       "      <td>127.00</td>\n",
       "      <td>10.00</td>\n",
       "      <td>-3.466590</td>\n",
       "    </tr>\n",
       "  </tbody>\n",
       "</table>\n",
       "</div>"
      ],
      "text/plain": [
       "                   name                                             SMILES  \\\n",
       "0            Acebutolol           CCCC(=O)Nc1ccc(OCC(O)CNC(C)C)c(C(C)=O)c1   \n",
       "1           Amoxicillin   CC1(C)SC2C(NC(=O)C(N)c3ccc(O)cc3)C(=O)N2C1C(=O)O   \n",
       "2   Bendroflumethiazide  NS(=O)(=O)c1cc2c(cc1C(F)(F)F)NC(Cc1ccccc1)NS2(...   \n",
       "3            Benzocaine                                CCOC(=O)c1ccc(N)cc1   \n",
       "4          Benzthiazide   NS(=O)(=O)c1cc2c(cc1Cl)N=C(CSCc1ccccc1)NS2(=O)=O   \n",
       "6             Clozapine              CN1CCN(C2=Nc3cc(Cl)ccc3Nc3ccccc32)CC1   \n",
       "7             Dibucaine               CCCCOc1cc(C(=O)NCCN(CC)CC)c2ccccc2n1   \n",
       "8    Diethylstilbestrol                  CCC(=C(CC)c1ccc(O)cc1)c1ccc(O)cc1   \n",
       "9            Diflunisal                     O=C(O)c1cc(-c2ccc(F)cc2F)ccc1O   \n",
       "10         Dipyridamole  OCCN(CCO)c1nc(N2CCCCC2)c2nc(N(CCO)CCO)nc(N3CCC...   \n",
       "12           Folic_Acid  Nc1nc(O)c2nc(CNc3ccc(C(=O)NC(CCC(=O)O)C(=O)O)c...   \n",
       "13           Furosemide            NS(=O)(=O)c1cc(C(=O)O)c(NCc2ccco2)cc1Cl   \n",
       "14  Hydrochlorothiazide                 NS(=O)(=O)c1cc2c(cc1Cl)NCNS2(=O)=O   \n",
       "15           Imipramine                      CN(C)CCCN1c2ccccc2CCc2ccccc21   \n",
       "16         Indomethacin     COc1ccc2c(c1)c(CC(=O)O)c(C)n2C(=O)c1ccc(Cl)cc1   \n",
       "17           Ketoprofen                  CC(C(=O)O)c1cccc(C(=O)c2ccccc2)c1   \n",
       "18            Lidocaine                         CCN(CC)CC(=O)Nc1c(C)cccc1C   \n",
       "20    Meclofenamic_acid                   Cc1ccc(Cl)c(Nc2ccccc2C(=O)O)c1Cl   \n",
       "21       Naphthoic_acid                               O=C(O)c1ccc2ccccc2c1   \n",
       "23           Probenecid                 CCCN(CCC)S(=O)(=O)c1ccc(C(=O)O)cc1   \n",
       "24        Pyrimethamine                      CCc1nc(N)nc(N)c1-c1ccc(Cl)cc1   \n",
       "25       Salicylic_acid                                    O=C(O)c1ccccc1O   \n",
       "26        Sulfamerazine                   Cc1ccnc(NS(=O)(=O)c2ccc(N)cc2)n1   \n",
       "27       Sulfamethizole                    Cc1nnc(NS(=O)(=O)c2ccc(N)cc2)s1   \n",
       "29        Thiabendazole                         c1ccc2[nH]c(-c3cscn3)nc2c1   \n",
       "30          Tolbutamide                    CCCCNC(=O)NS(=O)(=O)c1ccc(C)cc1   \n",
       "31            Trazodone         O=c1n(CCCN2CCN(c3cccc(Cl)c3)CC2)nc2ccccn12   \n",
       "\n",
       "                                                InChI  expSolubility  \\\n",
       "0   InChI=1/C18H28N2O4/c1-5-6-18(23)20-14-7-8-17(1...         711.00   \n",
       "1   InChI=1/C16H19N3O5S/c1-16(2)11(15(23)24)19-13(...        3900.00   \n",
       "2   InChI=1/C15H18F3N3O4Rn2/c16-15(17,18)10-7-11-1...          21.20   \n",
       "3   InChI=1/C9H11NO2/c1-2-12-9(11)7-3-5-8(10)6-4-7...         780.00   \n",
       "4   InChI=1/C15H18ClN3O4Rn2S/c16-11-6-12-14(7-13(1...           6.40   \n",
       "6   InChI=1/C18H19ClN4/c1-22-8-10-23(11-9-22)18-14...         188.90   \n",
       "7   InChI=1/C20H29N3O2/c1-4-7-14-25-19-15-17(16-10...          14.00   \n",
       "8   InChI=1/C18H20O2/c1-3-17(13-5-9-15(19)10-6-13)...          10.00   \n",
       "9   InChI=1/C13H8F2O3/c14-8-2-3-9(11(15)6-8)7-1-4-...           0.29   \n",
       "10  InChI=1/C24H40N8O4/c33-15-11-31(12-16-34)23-26...           3.46   \n",
       "12  InChI=1/C19H19N7O6/c20-19-25-15-14(17(30)26-19...           2.50   \n",
       "13  InChI=1/C12H13ClN2O5Rn/c13-9-5-10(15-6-7-2-1-3...          19.60   \n",
       "14  InChI=1/C7H12ClN3O4Rn2/c8-4-1-5-7(2-6(4)16(9,1...         625.00   \n",
       "15  InChI=1/C19H24N2/c1-20(2)14-7-15-21-18-10-5-3-...          22.00   \n",
       "16  InChI=1/C19H16ClNO4/c1-11-15(10-18(22)23)16-9-...         410.00   \n",
       "17  InChI=1/C16H14O3/c1-11(16(18)19)13-8-5-9-14(10...         157.00   \n",
       "18  InChI=1/C14H22N2O/c1-5-16(6-2)10-13(17)15-14-1...        3130.00   \n",
       "20  InChI=1/C14H11Cl2NO2/c1-8-6-7-10(15)13(12(8)16...           0.16   \n",
       "21  InChI=1/C11H8O2/c12-11(13)10-6-5-8-3-1-2-4-9(8...          28.96   \n",
       "23  InChI=1/C13H21NO4Rn/c1-3-9-14(10-4-2)19(17,18)...           3.90   \n",
       "24  InChI=1/C12H13ClN4/c1-2-9-10(11(14)17-12(15)16...          19.40   \n",
       "25  InChI=1/C7H6O3/c8-6-4-2-1-3-5(6)7(9)10/h1-4,8H...        1620.00   \n",
       "26  InChI=1/C11H14N4O2Rn/c1-8-6-7-13-11(14-8)15-18...         200.00   \n",
       "27  InChI=1/C9H12N4O2RnS/c1-6-11-12-9(17-6)13-16(1...         450.00   \n",
       "29  InChI=1/C10H7N3S/c1-2-4-8-7(3-1)12-10(13-8)9-5...          66.00   \n",
       "30  InChI=1/C12H18N2O3S/c1-3-4-9-13-12(15)14-18(16...          93.00   \n",
       "31  InChI=1/C19H22ClN5O/c20-16-5-3-6-17(15-16)23-1...         127.00   \n",
       "\n",
       "    expUncertainty  Solubility  \n",
       "0           140.00   -2.675028  \n",
       "1           200.00   -1.971717  \n",
       "2             2.60   -4.298381  \n",
       "3           150.00   -2.325894  \n",
       "4             0.10   -4.829251  \n",
       "6             9.70   -3.238091  \n",
       "7             2.00   -4.389762  \n",
       "8             3.00   -4.428711  \n",
       "9             0.02   -5.935889  \n",
       "10            0.05   -5.163902  \n",
       "12            0.20   -5.246896  \n",
       "13            2.00   -4.227242  \n",
       "14           11.00   -2.677964  \n",
       "15            1.00   -4.105379  \n",
       "16            5.00   -2.940848  \n",
       "17            4.00   -3.209421  \n",
       "18          100.00   -1.874308  \n",
       "20            0.01   -6.267396  \n",
       "21            9.91   -3.774192  \n",
       "23            0.10   -4.864336  \n",
       "24            2.70   -4.107904  \n",
       "25           40.00   -1.930748  \n",
       "26            6.00   -3.121084  \n",
       "27           40.00   -2.778696  \n",
       "29            4.00   -3.484201  \n",
       "30            5.00   -3.463450  \n",
       "31           10.00   -3.466590  "
      ]
     },
     "execution_count": 11,
     "metadata": {},
     "output_type": "execute_result"
    }
   ],
   "source": [
    "SolChal1"
   ]
  },
  {
   "cell_type": "markdown",
   "id": "d648b15f-4de0-498d-9d66-adde9ecfcf10",
   "metadata": {},
   "source": [
    "Now we create the embeddings for them using smi-TED:"
   ]
  },
  {
   "cell_type": "code",
   "execution_count": 12,
   "id": "049333f8-d9c9-4872-a8d5-e6d87b7a1c0c",
   "metadata": {},
   "outputs": [
    {
     "data": {
      "application/vnd.jupyter.widget-view+json": {
       "model_id": "99da7bb38c0f42aea5a72a6ed3bfa2b3",
       "version_major": 2,
       "version_minor": 0
      },
      "text/plain": [
       "Map:   0%|          | 0/27 [00:00<?, ? examples/s]"
      ]
     },
     "metadata": {},
     "output_type": "display_data"
    },
    {
     "data": {
      "application/vnd.jupyter.widget-view+json": {
       "model_id": "8d37b351892949f8b60217a1c381f886",
       "version_major": 2,
       "version_minor": 0
      },
      "text/plain": [
       "Map:   0%|          | 0/100 [00:00<?, ? examples/s]"
      ]
     },
     "metadata": {},
     "output_type": "display_data"
    },
    {
     "data": {
      "application/vnd.jupyter.widget-view+json": {
       "model_id": "33d51db042c444abbec2e7a4f9dcd41b",
       "version_major": 2,
       "version_minor": 0
      },
      "text/plain": [
       "Map:   0%|          | 0/32 [00:00<?, ? examples/s]"
      ]
     },
     "metadata": {},
     "output_type": "display_data"
    }
   ],
   "source": [
    "with torch.no_grad():\n",
    "    df_embeddings_SolChal1 = model_encoder.encode(list(SolChal1['SMILES'].values))\n",
    "    df_embeddings_SolChal2_1 = model_encoder.encode(list(SolChal2_1['SMILES'].values))\n",
    "    df_embeddings_SolChal2_2 = model_encoder.encode(list(SolChal2_2['SMILES'].values))"
   ]
  },
  {
   "cell_type": "markdown",
   "id": "f8785a86-2138-4a23-8e54-3938d7044bbb",
   "metadata": {},
   "source": [
    "### Benchmarks"
   ]
  },
  {
   "cell_type": "code",
   "execution_count": 13,
   "id": "22bf14b0-b40c-44d8-ab52-d8f3a9050a08",
   "metadata": {},
   "outputs": [
    {
     "name": "stdout",
     "output_type": "stream",
     "text": [
      "RMSE Challenge 1: 0.944\n",
      "RMSE Challenge 2_1: 0.930\n",
      "RMSE Challenge 2_2: 1.450\n"
     ]
    }
   ],
   "source": [
    "y_pred_SolChal1 = model.predict(df_embeddings_SolChal1)\n",
    "y_pred_SolChal2_1 = model.predict(df_embeddings_SolChal2_1)\n",
    "y_pred_SolChal2_2 = model.predict(df_embeddings_SolChal2_2)\n",
    "\n",
    "rmse_SolChal1 = root_mean_squared_error(SolChal1['Solubility'], y_pred_SolChal1)\n",
    "rmse_SolChal2_1 = root_mean_squared_error(SolChal2_1['Solubility'], y_pred_SolChal2_1)\n",
    "rmse_SolChal2_2 = root_mean_squared_error(SolChal2_2['Solubility'], y_pred_SolChal2_2)\n",
    "\n",
    "print(f'RMSE Challenge 1: {rmse_SolChal1:.3f}')\n",
    "print(f'RMSE Challenge 2_1: {rmse_SolChal2_1:.3f}')\n",
    "print(f'RMSE Challenge 2_2: {rmse_SolChal2_2:.3f}')"
   ]
  },
  {
   "cell_type": "markdown",
   "id": "f7625dfc-ba68-4064-9ab7-beb2ac2b43d4",
   "metadata": {},
   "source": [
    "Comparing to [Mayk Ramos's work](https://pubs.rsc.org/en/content/articlehtml/2024/dd/d3dd00217a), our trained model with IBM model embeddings performs better with respect to the best models reported in that study for Solubility challenge 1 and Solubility challenge 2_1."
   ]
  },
  {
   "cell_type": "markdown",
   "id": "3a4d459e-0acf-4514-961f-bf5117af49f2",
   "metadata": {},
   "source": [
    "## Human-in-the-loop design of more soluble molecules"
   ]
  },
  {
   "cell_type": "markdown",
   "id": "f2044eee-3826-460f-8d38-1bd107e1a8ca",
   "metadata": {},
   "source": [
    "Now that we have this awesome solubility predictor, let's augment it with dZiner and make more soluble molecules by giving feedback on the design at each iteration."
   ]
  },
  {
   "cell_type": "markdown",
   "id": "b4326650-4e28-4cbc-8ba9-0ae6aec88b54",
   "metadata": {},
   "source": [
    "### Defining tools"
   ]
  },
  {
   "cell_type": "code",
   "execution_count": 14,
   "id": "7b065e71-908e-4b5d-9afa-075d3b974a72",
   "metadata": {},
   "outputs": [],
   "source": [
    "import warnings\n",
    "warnings.filterwarnings('ignore')\n",
    "from langchain._api import LangChainDeprecationWarning\n",
    "warnings.simplefilter(\"ignore\", category=LangChainDeprecationWarning)\n",
    "import sys\n",
    "import dziner\n",
    "import os\n",
    "\n",
    "os.environ[\"SERPER_API_KEY\"] = \"SERPER_API_KEY\"\n",
    "os.environ[\"ANTHROPIC_API_KEY\"] = \"ANTHROPIC_API_KEY\""
   ]
  },
  {
   "cell_type": "code",
   "execution_count": 23,
   "id": "af242dbd-6495-4eac-869d-90aecd01eaf0",
   "metadata": {},
   "outputs": [
    {
     "name": "stdout",
     "output_type": "stream",
     "text": [
      "Search tool:\n",
      "search(query) - This tool performs a search on Google using SerpAPI and returns relevant information for the query.\n",
      "It is useful for retrieving information from the web or when you need to look up current data.\n",
      "\n",
      "predict_solubility tool:\n",
      "predict_solubility(smiles) - This tool predicts the aqueous solubility (LogS) via IBM's model embeddings. Model is trained using the AqSolDB dataset.\n",
      "\n",
      "human_feedback tool:\n",
      "Use this tool to obtain feedback on the design of the new SMILES you suggested.\n",
      "\n"
     ]
    }
   ],
   "source": [
    "from dziner.tools import search\n",
    "print(f'Search tool:\\n{search.description}\\n')\n",
    "\n",
    "from langchain.agents import tool\n",
    "\n",
    "@tool\n",
    "def predict_solubility(smiles):\n",
    "    '''\n",
    "    This tool predicts the aqueous solubility (LogS) via IBM's model embeddings. Model is trained using the AqSolDB dataset. \n",
    "    '''\n",
    "    with torch.no_grad():\n",
    "        mol_embedding = model_encoder.encode([smiles])\n",
    "    return model.predict(mol_embedding)[0]\n",
    "\n",
    "\n",
    "def get_input() -> str:\n",
    "    print(\"Insert your text. Enter 'q' or press Ctrl-D (or Ctrl-Z on Windows) to end.\")\n",
    "    contents = []\n",
    "    line = input()\n",
    "    return line\n",
    "\n",
    "from langchain_community.tools import HumanInputRun\n",
    "human_feedback = HumanInputRun(input_func=get_input,\n",
    "                              description=\"Use this tool to obtain feedback on the design of the new SMILES you suggested.\",\n",
    "                                                         name='human_feedback')\n",
    "\n",
    "print(f'predict_solubility tool:\\n{predict_solubility.description}\\n')\n",
    "print(f'human_feedback tool:\\n{human_feedback.description}\\n')"
   ]
  },
  {
   "cell_type": "markdown",
   "id": "5b845d03-5b86-444f-8801-bcd2288599f5",
   "metadata": {},
   "source": [
    "### Defining custom system messages for the agent"
   ]
  },
  {
   "cell_type": "code",
   "execution_count": 24,
   "id": "10a78265-6485-4ee7-bc56-f34e6d6db8f6",
   "metadata": {},
   "outputs": [],
   "source": [
    "PREFIX = \"\"\"You are a helpful Chemist AI assistant called dZiner. Answer to questions the best you can. Try to be funny when you can.\n",
    "     Some questions may task you to make changes to a molecule based on some design guidelines\n",
    "    and optimize the its property.\n",
    "    You can look up these guidelines from the internet for more information on what changes\n",
    "    changes you can make. If you don't know, do not make up answers. Suggest one new SMILES ONLY.\n",
    "    Explain changes you make to the molecule in details at each step but DO NOT put redundant information and make it short.\n",
    "    \"\"\"\n",
    "\n",
    "FORMAT_INSTRUCTIONS = \"\"\"Use the following format:\n",
    "\n",
    "Question: the input question you must answer\n",
    "Thought: you should always think about what to do\n",
    "Action: the action to take, should be one of [{tool_names}]\n",
    "Action Input: the input to the action\n",
    "Observation: the result of the action\n",
    "... (this Thought/Action/Action Input/Observation can repeat N times)\n",
    "When you have a response to say to the Human, or if you do not need to use a tool, you MUST use the format:\n",
    "'''\n",
    "Thought: Here's your final answer:\n",
    "Final Answer: [your response here]\n",
    "'''\n",
    "\n",
    "Use the exact sequebce without any \"\\n\" or any extra \"()\".\n",
    "You have a final answer once you have as many new SMILES as you are asked.\n",
    "       \n",
    "\"\"\"\n",
    "\n",
    "SUFFIX = \"\"\"You should always follow these steps:\n",
    "    1. Lookup and summarize design guidelines on what functional groups can help with better solubility.\n",
    "    Make sure to add citations (paper DOI) for design guidelines if you use them, in your final response.\n",
    "    Your final response should also contain the source for the tools used from their summary in description in {tool_desc}.\n",
    "    2. Evaluate the solubility of the initial molecule you start with.\n",
    "    3. Start making changes to the molecule based on guidelines you found in step 1. Try to use different changes at each iteration.\n",
    "    4. Evaluate the solubility for the new molecule\n",
    "    5. Ask for human feedback on the new design.\n",
    "    If the solubility does not change properly, revert change to the best previous molecule and try something else by\n",
    "    redoing steps 3-5. Iterate you get a positive feedback on the design from the human.\n",
    "\n",
    "    Start by describing the problem: \\n\\nBegin!\\n \\n\\nQuestion: {input}\n",
    "Thought:{agent_scratchpad}\\n\"\"\""
   ]
  },
  {
   "cell_type": "markdown",
   "id": "8e013a59-2b99-4f0b-84b8-cab15a64a3a6",
   "metadata": {},
   "source": [
    "### Running the agent"
   ]
  },
  {
   "cell_type": "code",
   "execution_count": 25,
   "id": "87d1b959-5c00-4ecf-a5fe-19d6136bfe8c",
   "metadata": {},
   "outputs": [],
   "source": [
    "from dziner.agents import dZiner\n",
    "from langchain_anthropic import ChatAnthropic\n",
    "import os\n",
    "\n",
    "tools = [predict_solubility, search, human_feedback]\n",
    "tool_names = [tool.name for tool in tools]  \n",
    "tool_desc = [tool.description for tool in tools]\n",
    "\n",
    "agent_model = ChatAnthropic(model=\"claude-3-5-sonnet-20240620\", api_key=os.environ[\"ANTHROPIC_API_KEY\"], temperature=0.4, max_tokens=8192)\n",
    "agent = dZiner(tools, property=\"Solubility\",\n",
    "               model=agent_model, verbose=True,\n",
    "              suffix=SUFFIX, format_instructions=FORMAT_INSTRUCTIONS).agent"
   ]
  },
  {
   "cell_type": "code",
   "execution_count": 26,
   "id": "d9d28b6a-2a24-436e-bea4-8a14fde3cd33",
   "metadata": {},
   "outputs": [
    {
     "name": "stdout",
     "output_type": "stream",
     "text": [
      "\n",
      "\n",
      "\u001b[1m> Entering new AgentExecutor chain...\u001b[0m\n",
      "\u001b[32;1m\u001b[1;3mThought: To begin, I need to understand the design guidelines for improving solubility and evaluate the initial molecule's solubility. Let's start by searching for information on functional groups that can enhance solubility.\n",
      "\n",
      "Action: search\n",
      "Action Input: functional groups to improve aqueous solubility of organic compounds\n",
      "\u001b[0m\n",
      "Observation: \u001b[33;1m\u001b[1;3mby JA Cisneros · 2017 · Cited by 42 — It is well-known that introduction of morpholine and related heterocycles is normally successful in improving aqueous solubility. The groups are expected to be ... by L Zhang · 2011 · Cited by 23 — This study aims to obtain fragment–solubility relationships using matched molecular pairs, and to provide further insight and suggestions for chemists on ... by A Tayyebi · 2023 · Cited by 21 — Group contribution methods demonstrate a correlation between water solubility and several functional groups by decomposing the molecular units ... Aug 31, 2023 — Compounds that contain acidic functional groups that are insoluble in water can become soluble in an aqueous environment if they form an ionic ... Jun 5, 2019 — These are most often phosphate, ammonium or carboxylate, all of which are charged when dissolved in an aqueous solution buffered to pH 7. by MA Walker · 2017 · Cited by 45 — The most common solution is to replace carbon atoms with polar heteroatoms such as N and O or by attaching a solubilizing appendage. This ... by MM Sprachman · 2012 · Cited by 21 — Oxetanes are attractive functional groups for increasing aqueous solubility due to their rigid geometries and exposed polar surface area at the ring ether. by SS Silva · 2023 · Cited by 7 — Hydrotropes are a class of compounds that enhance the solubility of hydrophobic compounds in aqueous solutions, a phenomenon known as ... by S Boobier · 2020 · Cited by 205 — A wide range of functional groups were found including halogen, 3- and 4-membered rings, although B and Si containing compounds, which may be ...\u001b[0m\n",
      "Thought:\u001b[32;1m\u001b[1;3mThought: Based on the search results, I've gathered some useful information about functional groups that can improve aqueous solubility. Let's summarize the key points:\n",
      "\n",
      "1. Introduction of morpholine and related heterocycles can improve aqueous solubility.\n",
      "2. Polar heteroatoms such as N and O can replace carbon atoms to increase solubility.\n",
      "3. Charged groups like phosphate, ammonium, or carboxylate can enhance solubility at physiological pH.\n",
      "4. Oxetanes can increase aqueous solubility due to their rigid geometries and exposed polar surface area.\n",
      "5. Hydrotropes can enhance the solubility of hydrophobic compounds in aqueous solutions.\n",
      "\n",
      "Now, let's evaluate the solubility of the initial molecule.\n",
      "\n",
      "Action: predict_solubility\n",
      "Action Input: CN1CCN(C2=Nc3cc(Cl)ccc3Nc3ccccc32)CC1\n",
      "\u001b[0m"
     ]
    },
    {
     "data": {
      "application/vnd.jupyter.widget-view+json": {
       "model_id": "2f32af1a7dad4eec985904bcd3ae476c",
       "version_major": 2,
       "version_minor": 0
      },
      "text/plain": [
       "Map:   0%|          | 0/1 [00:00<?, ? examples/s]"
      ]
     },
     "metadata": {},
     "output_type": "display_data"
    },
    {
     "name": "stdout",
     "output_type": "stream",
     "text": [
      "\n",
      "Observation: \u001b[36;1m\u001b[1;3m-3.7694986\u001b[0m\n",
      "Thought:\u001b[32;1m\u001b[1;3mThought: The initial molecule has a predicted LogS value of -3.769, which indicates relatively low aqueous solubility. To improve its solubility, we'll make changes based on the design guidelines we found. Let's start by replacing the chlorine atom with a more polar group, such as a hydroxyl group, which can form hydrogen bonds and increase solubility.\n",
      "\n",
      "Action: predict_solubility\n",
      "Action Input: CN1CCN(C2=Nc3cc(O)ccc3Nc3ccccc32)CC1\n",
      "\u001b[0m"
     ]
    },
    {
     "data": {
      "application/vnd.jupyter.widget-view+json": {
       "model_id": "a8c4dd1dc0ae497f8e2f7b6709ea504e",
       "version_major": 2,
       "version_minor": 0
      },
      "text/plain": [
       "Map:   0%|          | 0/1 [00:00<?, ? examples/s]"
      ]
     },
     "metadata": {},
     "output_type": "display_data"
    },
    {
     "name": "stdout",
     "output_type": "stream",
     "text": [
      "\n",
      "Observation: \u001b[36;1m\u001b[1;3m-2.6585832\u001b[0m\n",
      "Thought:\u001b[32;1m\u001b[1;3mThought: The replacement of the chlorine atom with a hydroxyl group has improved the solubility, with the LogS value increasing from -3.769 to -2.658. This is a significant improvement, but we can try to enhance it further. Let's ask for human feedback on this change before proceeding.\n",
      "\n",
      "Action: human_feedback\n",
      "Action Input: I've replaced the chlorine atom with a hydroxyl group, changing CN1CCN(C2=Nc3cc(Cl)ccc3Nc3ccccc32)CC1 to CN1CCN(C2=Nc3cc(O)ccc3Nc3ccccc32)CC1. This improved the predicted LogS from -3.769 to -2.658. What do you think of this change?\n",
      "\u001b[0m\n",
      "\n",
      "I've replaced the chlorine atom with a hydroxyl group, changing CN1CCN(C2=Nc3cc(Cl)ccc3Nc3ccccc32)CC1 to CN1CCN(C2=Nc3cc(O)ccc3Nc3ccccc32)CC1. This improved the predicted LogS from -3.769 to -2.658. What do you think of this change?\n",
      "\n",
      "Insert your text. Enter 'q' or press Ctrl-D (or Ctrl-Z on Windows) to end.\n"
     ]
    },
    {
     "name": "stdin",
     "output_type": "stream",
     "text": [
      " Thanks. Try to add more hydrogen bond donors\n"
     ]
    },
    {
     "name": "stdout",
     "output_type": "stream",
     "text": [
      "\n",
      "Observation: \u001b[38;5;200m\u001b[1;3mThanks. Try to add more hydrogen bond donors\u001b[0m\n",
      "Thought:\u001b[32;1m\u001b[1;3mThought: Thank you for the feedback. I'll focus on adding more hydrogen bond donors to further improve the solubility. One way to do this is by adding a primary amine group (-NH2) to one of the phenyl rings. This will increase the number of hydrogen bond donors and potentially enhance solubility.\n",
      "\n",
      "Action: predict_solubility\n",
      "Action Input: CN1CCN(C2=Nc3cc(O)ccc3Nc3ccc(N)cc32)CC1\n",
      "\u001b[0m"
     ]
    },
    {
     "data": {
      "application/vnd.jupyter.widget-view+json": {
       "model_id": "f848df4ba42846ef884bf79172c77b1c",
       "version_major": 2,
       "version_minor": 0
      },
      "text/plain": [
       "Map:   0%|          | 0/1 [00:00<?, ? examples/s]"
      ]
     },
     "metadata": {},
     "output_type": "display_data"
    },
    {
     "name": "stdout",
     "output_type": "stream",
     "text": [
      "\n",
      "Observation: \u001b[36;1m\u001b[1;3m-2.3527231\u001b[0m\n",
      "Thought:\u001b[32;1m\u001b[1;3mThought: The addition of the primary amine group has further improved the solubility, with the LogS value increasing from -2.658 to -2.353. This is a positive trend, but we can still try to enhance it more. Let's ask for human feedback on this change before proceeding.\n",
      "\n",
      "Action: human_feedback\n",
      "Action Input: I've added a primary amine group (-NH2) to one of the phenyl rings, changing CN1CCN(C2=Nc3cc(O)ccc3Nc3ccccc32)CC1 to CN1CCN(C2=Nc3cc(O)ccc3Nc3ccc(N)cc32)CC1. This improved the predicted LogS from -2.658 to -2.353. What do you think of this change?\n",
      "\u001b[0m\n",
      "\n",
      "I've added a primary amine group (-NH2) to one of the phenyl rings, changing CN1CCN(C2=Nc3cc(O)ccc3Nc3ccccc32)CC1 to CN1CCN(C2=Nc3cc(O)ccc3Nc3ccc(N)cc32)CC1. This improved the predicted LogS from -2.658 to -2.353. What do you think of this change?\n",
      "\n",
      "Insert your text. Enter 'q' or press Ctrl-D (or Ctrl-Z on Windows) to end.\n"
     ]
    },
    {
     "name": "stdin",
     "output_type": "stream",
     "text": [
      " Great. Now add more charged groups like carboxylate.\n"
     ]
    },
    {
     "name": "stdout",
     "output_type": "stream",
     "text": [
      "\n",
      "Observation: \u001b[38;5;200m\u001b[1;3mGreat. Now add more charged groups like carboxylate.\u001b[0m\n",
      "Thought:\u001b[32;1m\u001b[1;3mThought: Thank you for the positive feedback and suggestion. I'll now focus on adding a carboxylate group to further improve the solubility. A carboxylate group is negatively charged at physiological pH and can significantly enhance aqueous solubility. Let's add this group to the phenyl ring that doesn't have the amine group.\n",
      "\n",
      "Action: predict_solubility\n",
      "Action Input: CN1CCN(C2=Nc3cc(O)ccc3Nc3ccc(N)cc32)CC1C(=O)[O-]\n",
      "\u001b[0m"
     ]
    },
    {
     "data": {
      "application/vnd.jupyter.widget-view+json": {
       "model_id": "302811e4c1a7407b89de72ea0a4f1e97",
       "version_major": 2,
       "version_minor": 0
      },
      "text/plain": [
       "Map:   0%|          | 0/1 [00:00<?, ? examples/s]"
      ]
     },
     "metadata": {},
     "output_type": "display_data"
    },
    {
     "name": "stdout",
     "output_type": "stream",
     "text": [
      "\n",
      "Observation: \u001b[36;1m\u001b[1;3m-2.6929476\u001b[0m\n",
      "Thought:\u001b[32;1m\u001b[1;3mThought: I apologize for the confusion in my previous response. It seems that adding the carboxylate group directly to the piperazine ring may have caused unexpected results. Let's try a different approach by adding the carboxylate group to one of the phenyl rings instead.\n",
      "\n",
      "Action: predict_solubility\n",
      "Action Input: CN1CCN(C2=Nc3cc(O)ccc3Nc3ccc(N)c(C(=O)[O-])c32)CC1\n",
      "\u001b[0m"
     ]
    },
    {
     "data": {
      "application/vnd.jupyter.widget-view+json": {
       "model_id": "7c383a3b568b4e778827c5972ee29267",
       "version_major": 2,
       "version_minor": 0
      },
      "text/plain": [
       "Map:   0%|          | 0/1 [00:00<?, ? examples/s]"
      ]
     },
     "metadata": {},
     "output_type": "display_data"
    },
    {
     "name": "stdout",
     "output_type": "stream",
     "text": [
      "\n",
      "Observation: \u001b[36;1m\u001b[1;3m-2.2017052\u001b[0m\n",
      "Thought:\u001b[32;1m\u001b[1;3mThought: Here's your final answer:\n",
      "\n",
      "Final Answer: I have successfully made changes to the initial molecule CN1CCN(C2=Nc3cc(Cl)ccc3Nc3ccccc32)CC1 to improve its aqueous solubility. The process involved three main modifications:\n",
      "\n",
      "1. Replaced the chlorine atom with a hydroxyl group (OH).\n",
      "2. Added a primary amine group (NH2) to one of the phenyl rings.\n",
      "3. Introduced a carboxylate group (COO-) to the same phenyl ring as the amine group.\n",
      "\n",
      "The final optimized molecule is: CN1CCN(C2=Nc3cc(O)ccc3Nc3ccc(N)c(C(=O)[O-])c32)CC1\n",
      "\n",
      "These changes resulted in a significant improvement in the predicted aqueous solubility:\n",
      "- Initial molecule: LogS = -3.769\n",
      "- Final molecule: LogS = -2.202\n",
      "\n",
      "The modifications were based on the following design guidelines:\n",
      "1. Replacing halogens with polar groups like hydroxyl (OH) to increase hydrogen bonding (Zhang, 2011).\n",
      "2. Adding hydrogen bond donors such as primary amines (NH2) (Walker, 2017).\n",
      "3. Introducing charged groups like carboxylate (COO-) to enhance solubility at physiological pH (Cisneros, 2017).\n",
      "\n",
      "These changes incorporate polar groups, hydrogen bond donors, and a charged group, all of which contribute to improved aqueous solubility.\n",
      "\n",
      "Sources for tools used:\n",
      "1. Solubility predictions: \"predict_solubility(smiles) - This tool predicts the aqueous solubility (LogS) via IBM's model embeddings. Model is trained using the AqSolDB dataset.\"\n",
      "2. Information search: \"search(query) - This tool performs a search on Google using SerpAPI and returns relevant information for the query.\"\n",
      "3. Design feedback: \"Use this tool to obtain feedback on the design of the new SMILES you suggested.\"\n",
      "\n",
      "Citations:\n",
      "1. Cisneros, J. A., et al. (2017). DOI: 10.1021/acs.jmedchem.6b01846\n",
      "2. Zhang, L., et al. (2011). DOI: 10.1021/ci200097w\n",
      "3. Walker, M. A. (2017). DOI: 10.1016/j.ejmech.2017.05.061\u001b[0m\n",
      "\n",
      "\u001b[1m> Finished chain.\u001b[0m\n"
     ]
    }
   ],
   "source": [
    "inital_smiles = \"CN1CCN(C2=Nc3cc(Cl)ccc3Nc3ccccc32)CC1\"\n",
    "\n",
    "Human_prompt = f\"Make changes to {inital_smiles} and make it more soluble.\"\n",
    "\n",
    "input_data = {\n",
    "            \"input\": Human_prompt,\n",
    "            \"tools\": tools,\n",
    "            \"tool_names\": tool_names,\n",
    "            \"tool_desc\": tool_desc\n",
    "        }\n",
    "\n",
    "result = agent.invoke(input_data)"
   ]
  },
  {
   "cell_type": "markdown",
   "id": "3df9da66-2afe-460b-b199-490642bba97b",
   "metadata": {},
   "source": [
    "Looks like we have two orders of magnitude increase in solubility now :)"
   ]
  },
  {
   "cell_type": "code",
   "execution_count": null,
   "id": "57e00edf-6d26-4ec4-b243-ea4aeea03e74",
   "metadata": {},
   "outputs": [],
   "source": []
  },
  {
   "cell_type": "code",
   "execution_count": null,
   "id": "b963f612-45ef-4399-a7b4-2c905c8a533e",
   "metadata": {},
   "outputs": [],
   "source": []
  }
 ],
 "metadata": {
  "kernelspec": {
   "display_name": "Python 3 (ipykernel)",
   "language": "python",
   "name": "python3"
  },
  "language_info": {
   "codemirror_mode": {
    "name": "ipython",
    "version": 3
   },
   "file_extension": ".py",
   "mimetype": "text/x-python",
   "name": "python",
   "nbconvert_exporter": "python",
   "pygments_lexer": "ipython3",
   "version": "3.10.8"
  }
 },
 "nbformat": 4,
 "nbformat_minor": 5
}
